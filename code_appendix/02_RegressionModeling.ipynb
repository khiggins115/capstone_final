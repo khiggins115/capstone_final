{
 "cells": [
  {
   "cell_type": "markdown",
   "id": "23db8841-c98a-44b9-9fc1-42d6192dd140",
   "metadata": {},
   "source": [
    "# Linear Regression Modeling\n",
    "\n",
    "\n",
    "Now that I have a problem statement in hand, I can begin the modeling process. I will be creating a linear model that explores the relationships between binge drinking, sex/gender, and mortality rates by self-harm.\n",
    "\n",
    "## Problem Statement\n",
    "As the proportion of the population that binge drinks increases, does the mortality rate by self harm change? \n",
    "\n",
    "\n",
    "\n",
    "---\n",
    "### Process\n",
    "\n",
    "In this notebook, I'll investigate relationships between self-harm mortality rate and other variables, such as alcohol use/type, state, and sex, as well as between unemployment rate and labor force.\n",
    "\n",
    "The models in this notebook will all be simple univariate linear models that directly compare alcohol prevalence use, sex, state, unemployment or labor force with self-harm mortality. \n"
   ]
  },
  {
   "cell_type": "code",
   "execution_count": 6,
   "id": "1c11b2df-f276-4f32-951f-90f7dd3d2adf",
   "metadata": {},
   "outputs": [],
   "source": [
    "# imports\n",
    "import pandas as pd\n",
    "import numpy as np\n",
    "import matplotlib.pyplot as plt\n",
    "import seaborn as sns\n",
    "\n",
    "# imports - modeling\n",
    "from sklearn.model_selection import train_test_split, GridSearchCV, cross_val_score\n",
    "from sklearn.preprocessing import StandardScaler, OneHotEncoder\n",
    "from sklearn.linear_model import LinearRegression, Ridge, Lasso\n",
    "from sklearn.ensemble import RandomForestRegressor, GradientBoostingRegressor, AdaBoostRegressor\n",
    "from sklearn.metrics import mean_squared_error\n",
    "from sklearn.compose import make_column_transformer, make_column_selector\n",
    "from sklearn.pipeline import make_pipeline\n",
    "from sklearn.feature_selection import SelectKBest\n",
    "\n",
    "#sklearn.set_config(display='diagram')"
   ]
  },
  {
   "cell_type": "code",
   "execution_count": 7,
   "id": "c70d7400-6fa2-4e6d-bbfe-0803a7613677",
   "metadata": {},
   "outputs": [],
   "source": [
    "# read in data\n",
    "# 'labor_force': 'Int64', 'employed': 'float64', 'unemployed': 'float64', 'unemployment_rate': 'float64'\n",
    "\n",
    "#read in joined selfharm_alcohol use data\n",
    "harm_alcohol_any = pd.read_csv('../data/cleaned/selfharm_alcohol_joins/selfharm_join_alcohol_any.csv', dtype={'FIPS': 'object'})\n",
    "harm_alcohol_heavy = pd.read_csv('../data/cleaned/selfharm_alcohol_joins/selfharm_join_heavy_prop_heavy.csv', dtype={'FIPS': 'object'})\n",
    "harm_alcohol_binge = pd.read_csv('../data/cleaned/selfharm_alcohol_joins/selfharm_join_binge_prop_binge.csv', dtype={'FIPS': 'object'})\n",
    "\n",
    "#drop the NAs\n",
    "harm_alcohol_any.dropna(inplace=True)\n",
    "harm_alcohol_heavy.dropna(inplace=True)\n",
    "harm_alcohol_binge.dropna(inplace=True)"
   ]
  },
  {
   "cell_type": "markdown",
   "id": "3f2cc509-db90-4196-a88f-56b0fe010acc",
   "metadata": {},
   "source": [
    "\n",
    "### First - Establishing a Baseline\n",
    "To get a baseline accuracy score"
   ]
  },
  {
   "cell_type": "code",
   "execution_count": 56,
   "id": "3422bf0a-0f1d-4fc7-a75d-c35d74f53d98",
   "metadata": {},
   "outputs": [
    {
     "data": {
      "text/plain": [
       "15.635809937644858"
      ]
     },
     "execution_count": 56,
     "metadata": {},
     "output_type": "execute_result"
    }
   ],
   "source": [
    "harm_alcohol_binge['mx'].mean()"
   ]
  },
  {
   "cell_type": "code",
   "execution_count": 12,
   "id": "ac81bb85-6096-4a17-a794-5b57f17719f2",
   "metadata": {},
   "outputs": [
    {
     "data": {
      "text/html": [
       "<div>\n",
       "<style scoped>\n",
       "    .dataframe tbody tr th:only-of-type {\n",
       "        vertical-align: middle;\n",
       "    }\n",
       "\n",
       "    .dataframe tbody tr th {\n",
       "        vertical-align: top;\n",
       "    }\n",
       "\n",
       "    .dataframe thead th {\n",
       "        text-align: right;\n",
       "    }\n",
       "</style>\n",
       "<table border=\"1\" class=\"dataframe\">\n",
       "  <thead>\n",
       "    <tr style=\"text-align: right;\">\n",
       "      <th></th>\n",
       "      <th>location_name</th>\n",
       "      <th>FIPS</th>\n",
       "      <th>cause_name</th>\n",
       "      <th>sex</th>\n",
       "      <th>year_id</th>\n",
       "      <th>mx</th>\n",
       "      <th>state</th>\n",
       "      <th>UID</th>\n",
       "      <th>UID_2</th>\n",
       "      <th>county_state_y</th>\n",
       "      <th>alcohol_any</th>\n",
       "    </tr>\n",
       "  </thead>\n",
       "  <tbody>\n",
       "    <tr>\n",
       "      <th>22</th>\n",
       "      <td>Adams County</td>\n",
       "      <td>17001</td>\n",
       "      <td>Self-harm</td>\n",
       "      <td>Male</td>\n",
       "      <td>2002</td>\n",
       "      <td>19.723610</td>\n",
       "      <td>Illinois</td>\n",
       "      <td>17001-2002</td>\n",
       "      <td>17001-Male-2002</td>\n",
       "      <td>Adams County, Illinois</td>\n",
       "      <td>64.2</td>\n",
       "    </tr>\n",
       "    <tr>\n",
       "      <th>23</th>\n",
       "      <td>Adams County</td>\n",
       "      <td>17001</td>\n",
       "      <td>Self-harm</td>\n",
       "      <td>Male</td>\n",
       "      <td>2003</td>\n",
       "      <td>19.560579</td>\n",
       "      <td>Illinois</td>\n",
       "      <td>17001-2003</td>\n",
       "      <td>17001-Male-2003</td>\n",
       "      <td>Adams County, Illinois</td>\n",
       "      <td>65.3</td>\n",
       "    </tr>\n",
       "    <tr>\n",
       "      <th>24</th>\n",
       "      <td>Adams County</td>\n",
       "      <td>17001</td>\n",
       "      <td>Self-harm</td>\n",
       "      <td>Male</td>\n",
       "      <td>2004</td>\n",
       "      <td>19.175775</td>\n",
       "      <td>Illinois</td>\n",
       "      <td>17001-2004</td>\n",
       "      <td>17001-Male-2004</td>\n",
       "      <td>Adams County, Illinois</td>\n",
       "      <td>64.0</td>\n",
       "    </tr>\n",
       "    <tr>\n",
       "      <th>25</th>\n",
       "      <td>Adams County</td>\n",
       "      <td>17001</td>\n",
       "      <td>Self-harm</td>\n",
       "      <td>Male</td>\n",
       "      <td>2005</td>\n",
       "      <td>20.508569</td>\n",
       "      <td>Illinois</td>\n",
       "      <td>17001-2005</td>\n",
       "      <td>17001-Male-2005</td>\n",
       "      <td>Adams County, Illinois</td>\n",
       "      <td>64.5</td>\n",
       "    </tr>\n",
       "    <tr>\n",
       "      <th>26</th>\n",
       "      <td>Adams County</td>\n",
       "      <td>17001</td>\n",
       "      <td>Self-harm</td>\n",
       "      <td>Male</td>\n",
       "      <td>2006</td>\n",
       "      <td>19.711650</td>\n",
       "      <td>Illinois</td>\n",
       "      <td>17001-2006</td>\n",
       "      <td>17001-Male-2006</td>\n",
       "      <td>Adams County, Illinois</td>\n",
       "      <td>64.8</td>\n",
       "    </tr>\n",
       "    <tr>\n",
       "      <th>...</th>\n",
       "      <td>...</td>\n",
       "      <td>...</td>\n",
       "      <td>...</td>\n",
       "      <td>...</td>\n",
       "      <td>...</td>\n",
       "      <td>...</td>\n",
       "      <td>...</td>\n",
       "      <td>...</td>\n",
       "      <td>...</td>\n",
       "      <td>...</td>\n",
       "      <td>...</td>\n",
       "    </tr>\n",
       "    <tr>\n",
       "      <th>331058</th>\n",
       "      <td>Wyoming County</td>\n",
       "      <td>54109</td>\n",
       "      <td>Self-harm</td>\n",
       "      <td>Both</td>\n",
       "      <td>2008</td>\n",
       "      <td>21.159870</td>\n",
       "      <td>West Virginia</td>\n",
       "      <td>54109-2008</td>\n",
       "      <td>54109-Both-2008</td>\n",
       "      <td>Wyoming County, West Virginia</td>\n",
       "      <td>23.5</td>\n",
       "    </tr>\n",
       "    <tr>\n",
       "      <th>331059</th>\n",
       "      <td>Wyoming County</td>\n",
       "      <td>54109</td>\n",
       "      <td>Self-harm</td>\n",
       "      <td>Both</td>\n",
       "      <td>2009</td>\n",
       "      <td>21.284966</td>\n",
       "      <td>West Virginia</td>\n",
       "      <td>54109-2009</td>\n",
       "      <td>54109-Both-2009</td>\n",
       "      <td>Wyoming County, West Virginia</td>\n",
       "      <td>22.6</td>\n",
       "    </tr>\n",
       "    <tr>\n",
       "      <th>331060</th>\n",
       "      <td>Wyoming County</td>\n",
       "      <td>54109</td>\n",
       "      <td>Self-harm</td>\n",
       "      <td>Both</td>\n",
       "      <td>2010</td>\n",
       "      <td>21.706674</td>\n",
       "      <td>West Virginia</td>\n",
       "      <td>54109-2010</td>\n",
       "      <td>54109-Both-2010</td>\n",
       "      <td>Wyoming County, West Virginia</td>\n",
       "      <td>23.1</td>\n",
       "    </tr>\n",
       "    <tr>\n",
       "      <th>331061</th>\n",
       "      <td>Wyoming County</td>\n",
       "      <td>54109</td>\n",
       "      <td>Self-harm</td>\n",
       "      <td>Both</td>\n",
       "      <td>2011</td>\n",
       "      <td>22.570620</td>\n",
       "      <td>West Virginia</td>\n",
       "      <td>54109-2011</td>\n",
       "      <td>54109-Both-2011</td>\n",
       "      <td>Wyoming County, West Virginia</td>\n",
       "      <td>23.3</td>\n",
       "    </tr>\n",
       "    <tr>\n",
       "      <th>331062</th>\n",
       "      <td>Wyoming County</td>\n",
       "      <td>54109</td>\n",
       "      <td>Self-harm</td>\n",
       "      <td>Both</td>\n",
       "      <td>2012</td>\n",
       "      <td>22.670492</td>\n",
       "      <td>West Virginia</td>\n",
       "      <td>54109-2012</td>\n",
       "      <td>54109-Both-2012</td>\n",
       "      <td>Wyoming County, West Virginia</td>\n",
       "      <td>23.5</td>\n",
       "    </tr>\n",
       "  </tbody>\n",
       "</table>\n",
       "<p>89001 rows × 11 columns</p>\n",
       "</div>"
      ],
      "text/plain": [
       "         location_name   FIPS cause_name   sex  year_id         mx  \\\n",
       "22        Adams County  17001  Self-harm  Male     2002  19.723610   \n",
       "23        Adams County  17001  Self-harm  Male     2003  19.560579   \n",
       "24        Adams County  17001  Self-harm  Male     2004  19.175775   \n",
       "25        Adams County  17001  Self-harm  Male     2005  20.508569   \n",
       "26        Adams County  17001  Self-harm  Male     2006  19.711650   \n",
       "...                ...    ...        ...   ...      ...        ...   \n",
       "331058  Wyoming County  54109  Self-harm  Both     2008  21.159870   \n",
       "331059  Wyoming County  54109  Self-harm  Both     2009  21.284966   \n",
       "331060  Wyoming County  54109  Self-harm  Both     2010  21.706674   \n",
       "331061  Wyoming County  54109  Self-harm  Both     2011  22.570620   \n",
       "331062  Wyoming County  54109  Self-harm  Both     2012  22.670492   \n",
       "\n",
       "                state         UID            UID_2  \\\n",
       "22           Illinois  17001-2002  17001-Male-2002   \n",
       "23           Illinois  17001-2003  17001-Male-2003   \n",
       "24           Illinois  17001-2004  17001-Male-2004   \n",
       "25           Illinois  17001-2005  17001-Male-2005   \n",
       "26           Illinois  17001-2006  17001-Male-2006   \n",
       "...               ...         ...              ...   \n",
       "331058  West Virginia  54109-2008  54109-Both-2008   \n",
       "331059  West Virginia  54109-2009  54109-Both-2009   \n",
       "331060  West Virginia  54109-2010  54109-Both-2010   \n",
       "331061  West Virginia  54109-2011  54109-Both-2011   \n",
       "331062  West Virginia  54109-2012  54109-Both-2012   \n",
       "\n",
       "                       county_state_y  alcohol_any  \n",
       "22             Adams County, Illinois         64.2  \n",
       "23             Adams County, Illinois         65.3  \n",
       "24             Adams County, Illinois         64.0  \n",
       "25             Adams County, Illinois         64.5  \n",
       "26             Adams County, Illinois         64.8  \n",
       "...                               ...          ...  \n",
       "331058  Wyoming County, West Virginia         23.5  \n",
       "331059  Wyoming County, West Virginia         22.6  \n",
       "331060  Wyoming County, West Virginia         23.1  \n",
       "331061  Wyoming County, West Virginia         23.3  \n",
       "331062  Wyoming County, West Virginia         23.5  \n",
       "\n",
       "[89001 rows x 11 columns]"
      ]
     },
     "execution_count": 12,
     "metadata": {},
     "output_type": "execute_result"
    }
   ],
   "source": [
    "harm_alcohol_any"
   ]
  },
  {
   "cell_type": "markdown",
   "id": "a134bc52-8001-49b6-94c5-a367d299d946",
   "metadata": {},
   "source": [
    "# Model 1 - Simple Univariate Regression Models\n",
    "Here, I will not take into account state, county, sex or year. I will simply see if there appears to be a relationship between the different types of alcohol use/prevalence and `mx` (self-harm mortality rate). \n",
    "\n",
    "My success metrics will be accuracy and RMSE.\n",
    "\n",
    "I will write a function that will allow me to try several different regression models with less code. "
   ]
  },
  {
   "cell_type": "code",
   "execution_count": 9,
   "id": "492bcebc-64bd-4c2f-b846-c56b4af4074f",
   "metadata": {},
   "outputs": [],
   "source": [
    "# instantiate different regression models and put them in a list\n",
    "lr = LinearRegression()\n",
    "lasso = Lasso()\n",
    "ridge = Ridge()\n",
    "rf = RandomForestRegressor()\n",
    "ada = AdaBoostRegressor()\n",
    "gboost = GradientBoostingRegressor()\n",
    "\n",
    "estimators = [lr, lasso, ridge, rf, ada, gboost]"
   ]
  },
  {
   "cell_type": "code",
   "execution_count": 26,
   "id": "c2f8ad40-b996-4bef-b975-3155c04da6ab",
   "metadata": {},
   "outputs": [],
   "source": [
    "# function\n",
    "def model_eval(df, independent_var, dependent_var, estimator_list):\n",
    "    \n",
    "    #drop the \"both\" sexes rows, so we're left with only male and female\n",
    "    df = df[df['sex'] != 'Both']\n",
    "    \n",
    "    X = df[[independent_var]]\n",
    "    y = df[dependent_var]\n",
    "    \n",
    "    X_train, X_test, y_train, y_test = train_test_split(X, y, random_state=42)\n",
    "    \n",
    "    for estimator in estimator_list:\n",
    "        estimator.fit(X_train, y_train)\n",
    "\n",
    "        train_score = round(estimator.score(X_train, y_train), 2)\n",
    "        test_score = round(estimator.score(X_test, y_test), 2)\n",
    "\n",
    "        rmse = round(mean_squared_error(y_test, estimator.predict(X_test)), 2)\n",
    "        \n",
    "        print(f'Estimator: {estimator}, Train/Test Accuracy: {train_score, test_score}, RMSE: {rmse}')\n",
    "    \n",
    "    return None\n",
    "    "
   ]
  },
  {
   "cell_type": "code",
   "execution_count": 27,
   "id": "ab1b85bb-e9fe-457d-ab0e-d9833e8bb38b",
   "metadata": {},
   "outputs": [
    {
     "name": "stdout",
     "output_type": "stream",
     "text": [
      "Estimator: LinearRegression(), Train/Test Accuracy: (0.15, 0.15), RMSE: 100.63\n",
      "Estimator: Lasso(), Train/Test Accuracy: (0.15, 0.15), RMSE: 100.64\n",
      "Estimator: Ridge(), Train/Test Accuracy: (0.15, 0.15), RMSE: 100.63\n",
      "Estimator: RandomForestRegressor(), Train/Test Accuracy: (0.17, 0.15), RMSE: 101.15\n",
      "Estimator: AdaBoostRegressor(), Train/Test Accuracy: (0.14, 0.14), RMSE: 102.26\n",
      "Estimator: GradientBoostingRegressor(), Train/Test Accuracy: (0.16, 0.16), RMSE: 99.58\n"
     ]
    }
   ],
   "source": [
    "# regressions for alcohol_any\n",
    "model_eval(harm_alcohol_any, 'alcohol_any', 'mx', estimators)"
   ]
  },
  {
   "cell_type": "code",
   "execution_count": 28,
   "id": "86359197-dc1a-435d-97c8-e7a52d190401",
   "metadata": {},
   "outputs": [
    {
     "name": "stdout",
     "output_type": "stream",
     "text": [
      "Estimator: LinearRegression(), Train/Test Accuracy: (0.39, 0.38), RMSE: 73.89\n",
      "Estimator: Lasso(), Train/Test Accuracy: (0.38, 0.38), RMSE: 73.9\n",
      "Estimator: Ridge(), Train/Test Accuracy: (0.39, 0.38), RMSE: 73.89\n",
      "Estimator: RandomForestRegressor(), Train/Test Accuracy: (0.43, 0.41), RMSE: 70.11\n",
      "Estimator: AdaBoostRegressor(), Train/Test Accuracy: (0.3, 0.28), RMSE: 86.08\n",
      "Estimator: GradientBoostingRegressor(), Train/Test Accuracy: (0.43, 0.42), RMSE: 69.27\n"
     ]
    }
   ],
   "source": [
    "# regressions for alcohol_heavy\n",
    "model_eval(harm_alcohol_heavy, 'alcohol_heavy', 'mx', estimators)"
   ]
  },
  {
   "cell_type": "code",
   "execution_count": 29,
   "id": "0ff7b068-cc35-4272-a4f5-7de196d89a18",
   "metadata": {},
   "outputs": [
    {
     "name": "stdout",
     "output_type": "stream",
     "text": [
      "Estimator: LinearRegression(), Train/Test Accuracy: (0.49, 0.47), RMSE: 63.4\n",
      "Estimator: Lasso(), Train/Test Accuracy: (0.49, 0.47), RMSE: 63.39\n",
      "Estimator: Ridge(), Train/Test Accuracy: (0.49, 0.47), RMSE: 63.4\n",
      "Estimator: RandomForestRegressor(), Train/Test Accuracy: (0.56, 0.52), RMSE: 56.8\n",
      "Estimator: AdaBoostRegressor(), Train/Test Accuracy: (0.5, 0.49), RMSE: 61.28\n",
      "Estimator: GradientBoostingRegressor(), Train/Test Accuracy: (0.56, 0.53), RMSE: 56.05\n"
     ]
    }
   ],
   "source": [
    "# regressions for alcohol_prop_heavy\n",
    "model_eval(harm_alcohol_heavy, 'alcohol_prop_heavy', 'mx', estimators)"
   ]
  },
  {
   "cell_type": "code",
   "execution_count": 30,
   "id": "2e09fd58-0cc8-47a8-a7a4-b3fdf4b99cd7",
   "metadata": {},
   "outputs": [
    {
     "name": "stdout",
     "output_type": "stream",
     "text": [
      "Estimator: LinearRegression(), Train/Test Accuracy: (0.43, 0.44), RMSE: 66.43\n",
      "Estimator: Lasso(), Train/Test Accuracy: (0.43, 0.44), RMSE: 66.48\n",
      "Estimator: Ridge(), Train/Test Accuracy: (0.43, 0.44), RMSE: 66.43\n",
      "Estimator: RandomForestRegressor(), Train/Test Accuracy: (0.52, 0.51), RMSE: 57.91\n",
      "Estimator: AdaBoostRegressor(), Train/Test Accuracy: (0.22, 0.22), RMSE: 92.12\n",
      "Estimator: GradientBoostingRegressor(), Train/Test Accuracy: (0.52, 0.51), RMSE: 57.52\n"
     ]
    }
   ],
   "source": [
    "# regressions for alcohol_binge\n",
    "model_eval(harm_alcohol_binge, 'alcohol_binge', 'mx', estimators)"
   ]
  },
  {
   "cell_type": "code",
   "execution_count": 31,
   "id": "9059f996-1583-4793-aa6b-7534713212db",
   "metadata": {},
   "outputs": [
    {
     "name": "stdout",
     "output_type": "stream",
     "text": [
      "Estimator: LinearRegression(), Train/Test Accuracy: (0.64, 0.64), RMSE: 42.63\n",
      "Estimator: Lasso(), Train/Test Accuracy: (0.64, 0.64), RMSE: 42.65\n",
      "Estimator: Ridge(), Train/Test Accuracy: (0.64, 0.64), RMSE: 42.63\n",
      "Estimator: RandomForestRegressor(), Train/Test Accuracy: (0.74, 0.72), RMSE: 32.68\n",
      "Estimator: AdaBoostRegressor(), Train/Test Accuracy: (0.63, 0.62), RMSE: 44.71\n",
      "Estimator: GradientBoostingRegressor(), Train/Test Accuracy: (0.74, 0.73), RMSE: 32.16\n"
     ]
    }
   ],
   "source": [
    "# regressions for alcohol_binge\n",
    "model_eval(harm_alcohol_binge, 'alcohol_prop_binge', 'mx', estimators)"
   ]
  },
  {
   "cell_type": "markdown",
   "id": "fcdc3143-f802-449e-9e75-9181f6f7407a",
   "metadata": {},
   "source": [
    "### Simple Univariate Regression Model Summary\n",
    "\n",
    "There doesn't appear to be much of a substantial relationship between `alcohol_any` and the self harm mortality rate, so we'll scrap that variable moving forward. \n",
    "\n",
    "None of the model/input variable combinations appear to show overfitting, so we can focus solely on which variables / models to include moving forward. \n",
    "\n",
    "`alcohol_prop_heavy` and `alcohol_prop_binge` appear to produce models with the strongest accuracy scores (although `alcohol_binge` only just barely underperforms `alcohol_prop_heavy` on measures of accuracy (except on the AdaBoostRegressor). \n",
    "\n",
    "Our best scoring model/variable combo used `alcohol_prop_binge` with RandomForestRegressor and the GradientBoostRegressor producing nearly identical accuracy and RMSE results. \n",
    "\n",
    "---\n",
    "\n",
    "## Model 1 Optimization: Fine Tuning Our Best Simple Regression Models\n",
    "\n",
    "Since we identified that the RandomForestRegressor and GradientBoostRegressor performed *exceptionally* well in terms of a accuracy, we will now hypertune the parameters to see if we can drive the accuracy up even higher. \n"
   ]
  },
  {
   "cell_type": "code",
   "execution_count": null,
   "id": "1128bc65-9bb1-4604-a6f8-f45d74dc32e8",
   "metadata": {},
   "outputs": [],
   "source": [
    "### GridSearching for params\n",
    "harm_alcohol_binge_both = harm_alcohol_binge[harm_alcohol_binge['sex'] != 'Both']\n",
    "\n",
    "X = harm_alcohol_binge_both[['alcohol_prop_binge']]\n",
    "y = harm_alcohol_binge_both['mx']\n",
    "\n",
    "X_train, X_test, y_train, y_test = train_test_split(X, y, random_state=42)"
   ]
  },
  {
   "cell_type": "code",
   "execution_count": 53,
   "id": "799afe3b-22f3-4250-89b4-cc9469e0d6e7",
   "metadata": {},
   "outputs": [],
   "source": [
    "rf = RandomForestRegressor(n_jobs=-1)\n",
    "rf_params = {'criterion': ['squared_error', 'poisson'], 'max_features': ['auto', 'sqrt', 'log2'], 'verbose': [True, False]}\n",
    "\n",
    "gboost = GradientBoostingRegressor()\n",
    "gb_params = {'loss': ['squared_error', 'absolute_error', 'huber'], 'n_estimators': [100, 200], 'max_depth': [3, 5, 10]}"
   ]
  },
  {
   "cell_type": "code",
   "execution_count": 50,
   "id": "014e9d12-fe0e-49ec-ba47-33905b722a4a",
   "metadata": {},
   "outputs": [],
   "source": [
    "# write a grid search function that returns the train, test, rmse and best_params\n",
    "def grid_search_eval(est, params):\n",
    "    #est = estimator(n_jobs = -1)\n",
    "    # instantiate model\n",
    "    gs = GridSearchCV(estimator=est, param_grid=params)\n",
    "    \n",
    "    # fit the model\n",
    "    gs.fit(X_train, y_train)\n",
    "    \n",
    "    # print out metrics\n",
    "    print(\"Train Score: \", gs.score(X_train, y_train))\n",
    "    print('Test Score: ', gs.score(X_test, y_test))\n",
    "    print(\"RMSE: \", mean_squared_error(y_test, gs.predict(X_test)))\n",
    "    print('Best Params: ', gs.best_params_)\n",
    "    \n",
    "    #return the gs instance in case we want to work with it\n",
    "    return gs\n",
    "    \n",
    "    "
   ]
  },
  {
   "cell_type": "code",
   "execution_count": 51,
   "id": "e17cfc87-a513-4700-a6da-4d8893134433",
   "metadata": {},
   "outputs": [
    {
     "name": "stderr",
     "output_type": "stream",
     "text": [
      "[Parallel(n_jobs=-1)]: Using backend LokyBackend with 16 concurrent workers.\n",
      "[Parallel(n_jobs=-1)]: Done  18 tasks      | elapsed:    1.9s\n",
      "[Parallel(n_jobs=-1)]: Done 100 out of 100 | elapsed:    2.0s finished\n",
      "[Parallel(n_jobs=16)]: Using backend ThreadingBackend with 16 concurrent workers.\n",
      "[Parallel(n_jobs=16)]: Done  18 tasks      | elapsed:    0.0s\n",
      "[Parallel(n_jobs=16)]: Done 100 out of 100 | elapsed:    0.0s finished\n",
      "[Parallel(n_jobs=-1)]: Using backend LokyBackend with 16 concurrent workers.\n",
      "[Parallel(n_jobs=-1)]: Done  18 tasks      | elapsed:    0.1s\n",
      "[Parallel(n_jobs=-1)]: Done 100 out of 100 | elapsed:    0.2s finished\n",
      "[Parallel(n_jobs=16)]: Using backend ThreadingBackend with 16 concurrent workers.\n",
      "[Parallel(n_jobs=16)]: Done  18 tasks      | elapsed:    0.0s\n",
      "[Parallel(n_jobs=16)]: Done 100 out of 100 | elapsed:    0.0s finished\n",
      "[Parallel(n_jobs=-1)]: Using backend LokyBackend with 16 concurrent workers.\n",
      "[Parallel(n_jobs=-1)]: Done  18 tasks      | elapsed:    0.1s\n",
      "[Parallel(n_jobs=-1)]: Done 100 out of 100 | elapsed:    0.2s finished\n",
      "[Parallel(n_jobs=16)]: Using backend ThreadingBackend with 16 concurrent workers.\n",
      "[Parallel(n_jobs=16)]: Done  18 tasks      | elapsed:    0.0s\n",
      "[Parallel(n_jobs=16)]: Done 100 out of 100 | elapsed:    0.0s finished\n",
      "[Parallel(n_jobs=-1)]: Using backend LokyBackend with 16 concurrent workers.\n",
      "[Parallel(n_jobs=-1)]: Done  18 tasks      | elapsed:    0.1s\n",
      "[Parallel(n_jobs=-1)]: Done 100 out of 100 | elapsed:    0.2s finished\n",
      "[Parallel(n_jobs=16)]: Using backend ThreadingBackend with 16 concurrent workers.\n",
      "[Parallel(n_jobs=16)]: Done  18 tasks      | elapsed:    0.0s\n",
      "[Parallel(n_jobs=16)]: Done 100 out of 100 | elapsed:    0.0s finished\n",
      "[Parallel(n_jobs=-1)]: Using backend LokyBackend with 16 concurrent workers.\n",
      "[Parallel(n_jobs=-1)]: Done  18 tasks      | elapsed:    0.1s\n",
      "[Parallel(n_jobs=-1)]: Done 100 out of 100 | elapsed:    0.2s finished\n",
      "[Parallel(n_jobs=16)]: Using backend ThreadingBackend with 16 concurrent workers.\n",
      "[Parallel(n_jobs=16)]: Done  18 tasks      | elapsed:    0.0s\n",
      "[Parallel(n_jobs=16)]: Done 100 out of 100 | elapsed:    0.0s finished\n",
      "[Parallel(n_jobs=-1)]: Using backend LokyBackend with 16 concurrent workers.\n",
      "[Parallel(n_jobs=-1)]: Done  18 tasks      | elapsed:    0.1s\n",
      "[Parallel(n_jobs=-1)]: Done 100 out of 100 | elapsed:    0.2s finished\n",
      "[Parallel(n_jobs=16)]: Using backend ThreadingBackend with 16 concurrent workers.\n",
      "[Parallel(n_jobs=16)]: Done  18 tasks      | elapsed:    0.0s\n",
      "[Parallel(n_jobs=16)]: Done 100 out of 100 | elapsed:    0.0s finished\n",
      "[Parallel(n_jobs=-1)]: Using backend LokyBackend with 16 concurrent workers.\n",
      "[Parallel(n_jobs=-1)]: Done  18 tasks      | elapsed:    0.1s\n",
      "[Parallel(n_jobs=-1)]: Done 100 out of 100 | elapsed:    0.2s finished\n",
      "[Parallel(n_jobs=16)]: Using backend ThreadingBackend with 16 concurrent workers.\n",
      "[Parallel(n_jobs=16)]: Done  18 tasks      | elapsed:    0.0s\n",
      "[Parallel(n_jobs=16)]: Done 100 out of 100 | elapsed:    0.0s finished\n",
      "[Parallel(n_jobs=-1)]: Using backend LokyBackend with 16 concurrent workers.\n",
      "[Parallel(n_jobs=-1)]: Done  18 tasks      | elapsed:    0.1s\n",
      "[Parallel(n_jobs=-1)]: Done 100 out of 100 | elapsed:    0.2s finished\n",
      "[Parallel(n_jobs=16)]: Using backend ThreadingBackend with 16 concurrent workers.\n",
      "[Parallel(n_jobs=16)]: Done  18 tasks      | elapsed:    0.0s\n",
      "[Parallel(n_jobs=16)]: Done 100 out of 100 | elapsed:    0.0s finished\n",
      "[Parallel(n_jobs=-1)]: Using backend LokyBackend with 16 concurrent workers.\n",
      "[Parallel(n_jobs=-1)]: Done  18 tasks      | elapsed:    0.1s\n",
      "[Parallel(n_jobs=-1)]: Done 100 out of 100 | elapsed:    0.2s finished\n",
      "[Parallel(n_jobs=16)]: Using backend ThreadingBackend with 16 concurrent workers.\n",
      "[Parallel(n_jobs=16)]: Done  18 tasks      | elapsed:    0.0s\n",
      "[Parallel(n_jobs=16)]: Done 100 out of 100 | elapsed:    0.0s finished\n",
      "[Parallel(n_jobs=-1)]: Using backend LokyBackend with 16 concurrent workers.\n",
      "[Parallel(n_jobs=-1)]: Done  18 tasks      | elapsed:    0.1s\n",
      "[Parallel(n_jobs=-1)]: Done 100 out of 100 | elapsed:    0.2s finished\n",
      "[Parallel(n_jobs=16)]: Using backend ThreadingBackend with 16 concurrent workers.\n",
      "[Parallel(n_jobs=16)]: Done  18 tasks      | elapsed:    0.0s\n",
      "[Parallel(n_jobs=16)]: Done 100 out of 100 | elapsed:    0.0s finished\n",
      "[Parallel(n_jobs=-1)]: Using backend LokyBackend with 16 concurrent workers.\n",
      "[Parallel(n_jobs=-1)]: Done  18 tasks      | elapsed:    0.1s\n",
      "[Parallel(n_jobs=-1)]: Done 100 out of 100 | elapsed:    0.2s finished\n",
      "[Parallel(n_jobs=16)]: Using backend ThreadingBackend with 16 concurrent workers.\n",
      "[Parallel(n_jobs=16)]: Done  18 tasks      | elapsed:    0.0s\n",
      "[Parallel(n_jobs=16)]: Done 100 out of 100 | elapsed:    0.0s finished\n",
      "[Parallel(n_jobs=-1)]: Using backend LokyBackend with 16 concurrent workers.\n",
      "[Parallel(n_jobs=-1)]: Done  18 tasks      | elapsed:    0.1s\n",
      "[Parallel(n_jobs=-1)]: Done 100 out of 100 | elapsed:    0.2s finished\n",
      "[Parallel(n_jobs=16)]: Using backend ThreadingBackend with 16 concurrent workers.\n",
      "[Parallel(n_jobs=16)]: Done  18 tasks      | elapsed:    0.0s\n",
      "[Parallel(n_jobs=16)]: Done 100 out of 100 | elapsed:    0.0s finished\n",
      "[Parallel(n_jobs=-1)]: Using backend LokyBackend with 16 concurrent workers.\n",
      "[Parallel(n_jobs=-1)]: Done  18 tasks      | elapsed:    0.1s\n",
      "[Parallel(n_jobs=-1)]: Done 100 out of 100 | elapsed:    0.2s finished\n",
      "[Parallel(n_jobs=16)]: Using backend ThreadingBackend with 16 concurrent workers.\n",
      "[Parallel(n_jobs=16)]: Done  18 tasks      | elapsed:    0.0s\n",
      "[Parallel(n_jobs=16)]: Done 100 out of 100 | elapsed:    0.0s finished\n",
      "[Parallel(n_jobs=-1)]: Using backend LokyBackend with 16 concurrent workers.\n",
      "[Parallel(n_jobs=-1)]: Done  18 tasks      | elapsed:    0.1s\n",
      "[Parallel(n_jobs=-1)]: Done 100 out of 100 | elapsed:    0.2s finished\n",
      "[Parallel(n_jobs=16)]: Using backend ThreadingBackend with 16 concurrent workers.\n",
      "[Parallel(n_jobs=16)]: Done  18 tasks      | elapsed:    0.0s\n",
      "[Parallel(n_jobs=16)]: Done 100 out of 100 | elapsed:    0.0s finished\n",
      "[Parallel(n_jobs=-1)]: Using backend LokyBackend with 16 concurrent workers.\n",
      "[Parallel(n_jobs=-1)]: Done  18 tasks      | elapsed:    0.1s\n",
      "[Parallel(n_jobs=-1)]: Done 100 out of 100 | elapsed:    0.2s finished\n",
      "[Parallel(n_jobs=16)]: Using backend ThreadingBackend with 16 concurrent workers.\n",
      "[Parallel(n_jobs=16)]: Done  18 tasks      | elapsed:    0.0s\n",
      "[Parallel(n_jobs=16)]: Done 100 out of 100 | elapsed:    0.0s finished\n",
      "[Parallel(n_jobs=-1)]: Using backend LokyBackend with 16 concurrent workers.\n",
      "[Parallel(n_jobs=-1)]: Done  18 tasks      | elapsed:    0.4s\n",
      "[Parallel(n_jobs=-1)]: Done 100 out of 100 | elapsed:    1.2s finished\n",
      "[Parallel(n_jobs=16)]: Using backend ThreadingBackend with 16 concurrent workers.\n",
      "[Parallel(n_jobs=16)]: Done  18 tasks      | elapsed:    0.0s\n",
      "[Parallel(n_jobs=16)]: Done 100 out of 100 | elapsed:    0.0s finished\n",
      "[Parallel(n_jobs=-1)]: Using backend LokyBackend with 16 concurrent workers.\n",
      "[Parallel(n_jobs=-1)]: Done  18 tasks      | elapsed:    0.4s\n",
      "[Parallel(n_jobs=-1)]: Done 100 out of 100 | elapsed:    1.2s finished\n",
      "[Parallel(n_jobs=16)]: Using backend ThreadingBackend with 16 concurrent workers.\n",
      "[Parallel(n_jobs=16)]: Done  18 tasks      | elapsed:    0.0s\n",
      "[Parallel(n_jobs=16)]: Done 100 out of 100 | elapsed:    0.0s finished\n",
      "[Parallel(n_jobs=-1)]: Using backend LokyBackend with 16 concurrent workers.\n",
      "[Parallel(n_jobs=-1)]: Done  18 tasks      | elapsed:    0.3s\n",
      "[Parallel(n_jobs=-1)]: Done 100 out of 100 | elapsed:    1.3s finished\n",
      "[Parallel(n_jobs=16)]: Using backend ThreadingBackend with 16 concurrent workers.\n",
      "[Parallel(n_jobs=16)]: Done  18 tasks      | elapsed:    0.0s\n",
      "[Parallel(n_jobs=16)]: Done 100 out of 100 | elapsed:    0.0s finished\n",
      "[Parallel(n_jobs=-1)]: Using backend LokyBackend with 16 concurrent workers.\n",
      "[Parallel(n_jobs=-1)]: Done  18 tasks      | elapsed:    0.4s\n",
      "[Parallel(n_jobs=-1)]: Done 100 out of 100 | elapsed:    1.3s finished\n",
      "[Parallel(n_jobs=16)]: Using backend ThreadingBackend with 16 concurrent workers.\n",
      "[Parallel(n_jobs=16)]: Done  18 tasks      | elapsed:    0.0s\n",
      "[Parallel(n_jobs=16)]: Done 100 out of 100 | elapsed:    0.0s finished\n",
      "[Parallel(n_jobs=-1)]: Using backend LokyBackend with 16 concurrent workers.\n",
      "[Parallel(n_jobs=-1)]: Done  18 tasks      | elapsed:    0.4s\n",
      "[Parallel(n_jobs=-1)]: Done 100 out of 100 | elapsed:    1.4s finished\n",
      "[Parallel(n_jobs=16)]: Using backend ThreadingBackend with 16 concurrent workers.\n",
      "[Parallel(n_jobs=16)]: Done  18 tasks      | elapsed:    0.0s\n",
      "[Parallel(n_jobs=16)]: Done 100 out of 100 | elapsed:    0.0s finished\n",
      "[Parallel(n_jobs=-1)]: Using backend LokyBackend with 16 concurrent workers.\n",
      "[Parallel(n_jobs=-1)]: Done  18 tasks      | elapsed:    0.4s\n",
      "[Parallel(n_jobs=-1)]: Done 100 out of 100 | elapsed:    1.3s finished\n",
      "[Parallel(n_jobs=16)]: Using backend ThreadingBackend with 16 concurrent workers.\n",
      "[Parallel(n_jobs=16)]: Done  18 tasks      | elapsed:    0.0s\n",
      "[Parallel(n_jobs=16)]: Done 100 out of 100 | elapsed:    0.0s finished\n",
      "[Parallel(n_jobs=-1)]: Using backend LokyBackend with 16 concurrent workers.\n",
      "[Parallel(n_jobs=-1)]: Done  18 tasks      | elapsed:    0.4s\n",
      "[Parallel(n_jobs=-1)]: Done 100 out of 100 | elapsed:    1.4s finished\n",
      "[Parallel(n_jobs=16)]: Using backend ThreadingBackend with 16 concurrent workers.\n",
      "[Parallel(n_jobs=16)]: Done  18 tasks      | elapsed:    0.0s\n",
      "[Parallel(n_jobs=16)]: Done 100 out of 100 | elapsed:    0.0s finished\n",
      "[Parallel(n_jobs=-1)]: Using backend LokyBackend with 16 concurrent workers.\n",
      "[Parallel(n_jobs=-1)]: Done  18 tasks      | elapsed:    0.4s\n",
      "[Parallel(n_jobs=-1)]: Done 100 out of 100 | elapsed:    1.4s finished\n",
      "[Parallel(n_jobs=16)]: Using backend ThreadingBackend with 16 concurrent workers.\n",
      "[Parallel(n_jobs=16)]: Done  18 tasks      | elapsed:    0.0s\n",
      "[Parallel(n_jobs=16)]: Done 100 out of 100 | elapsed:    0.0s finished\n",
      "[Parallel(n_jobs=-1)]: Using backend LokyBackend with 16 concurrent workers.\n",
      "[Parallel(n_jobs=-1)]: Done  18 tasks      | elapsed:    0.4s\n",
      "[Parallel(n_jobs=-1)]: Done 100 out of 100 | elapsed:    1.3s finished\n",
      "[Parallel(n_jobs=16)]: Using backend ThreadingBackend with 16 concurrent workers.\n",
      "[Parallel(n_jobs=16)]: Done  18 tasks      | elapsed:    0.0s\n",
      "[Parallel(n_jobs=16)]: Done 100 out of 100 | elapsed:    0.0s finished\n",
      "[Parallel(n_jobs=-1)]: Using backend LokyBackend with 16 concurrent workers.\n",
      "[Parallel(n_jobs=-1)]: Done  18 tasks      | elapsed:    0.4s\n",
      "[Parallel(n_jobs=-1)]: Done 100 out of 100 | elapsed:    1.3s finished\n",
      "[Parallel(n_jobs=16)]: Using backend ThreadingBackend with 16 concurrent workers.\n",
      "[Parallel(n_jobs=16)]: Done  18 tasks      | elapsed:    0.0s\n",
      "[Parallel(n_jobs=16)]: Done 100 out of 100 | elapsed:    0.0s finished\n",
      "[Parallel(n_jobs=-1)]: Using backend LokyBackend with 16 concurrent workers.\n",
      "[Parallel(n_jobs=-1)]: Done  18 tasks      | elapsed:    0.4s\n",
      "[Parallel(n_jobs=-1)]: Done 100 out of 100 | elapsed:    1.3s finished\n",
      "[Parallel(n_jobs=16)]: Using backend ThreadingBackend with 16 concurrent workers.\n",
      "[Parallel(n_jobs=16)]: Done  18 tasks      | elapsed:    0.0s\n",
      "[Parallel(n_jobs=16)]: Done 100 out of 100 | elapsed:    0.0s finished\n",
      "[Parallel(n_jobs=-1)]: Using backend LokyBackend with 16 concurrent workers.\n",
      "[Parallel(n_jobs=-1)]: Done  18 tasks      | elapsed:    0.4s\n",
      "[Parallel(n_jobs=-1)]: Done 100 out of 100 | elapsed:    1.3s finished\n",
      "[Parallel(n_jobs=16)]: Using backend ThreadingBackend with 16 concurrent workers.\n",
      "[Parallel(n_jobs=16)]: Done  18 tasks      | elapsed:    0.0s\n",
      "[Parallel(n_jobs=16)]: Done 100 out of 100 | elapsed:    0.0s finished\n",
      "[Parallel(n_jobs=-1)]: Using backend LokyBackend with 16 concurrent workers.\n",
      "[Parallel(n_jobs=-1)]: Done  18 tasks      | elapsed:    0.4s\n",
      "[Parallel(n_jobs=-1)]: Done 100 out of 100 | elapsed:    1.3s finished\n",
      "[Parallel(n_jobs=16)]: Using backend ThreadingBackend with 16 concurrent workers.\n",
      "[Parallel(n_jobs=16)]: Done  18 tasks      | elapsed:    0.0s\n",
      "[Parallel(n_jobs=16)]: Done 100 out of 100 | elapsed:    0.0s finished\n",
      "[Parallel(n_jobs=-1)]: Using backend LokyBackend with 16 concurrent workers.\n",
      "[Parallel(n_jobs=-1)]: Done  18 tasks      | elapsed:    0.4s\n",
      "[Parallel(n_jobs=-1)]: Done 100 out of 100 | elapsed:    1.3s finished\n",
      "[Parallel(n_jobs=16)]: Using backend ThreadingBackend with 16 concurrent workers.\n",
      "[Parallel(n_jobs=16)]: Done  18 tasks      | elapsed:    0.0s\n",
      "[Parallel(n_jobs=16)]: Done 100 out of 100 | elapsed:    0.0s finished\n",
      "[Parallel(n_jobs=-1)]: Using backend LokyBackend with 16 concurrent workers.\n",
      "[Parallel(n_jobs=-1)]: Done  18 tasks      | elapsed:    0.4s\n",
      "[Parallel(n_jobs=-1)]: Done 100 out of 100 | elapsed:    1.3s finished\n",
      "[Parallel(n_jobs=16)]: Using backend ThreadingBackend with 16 concurrent workers.\n",
      "[Parallel(n_jobs=16)]: Done  18 tasks      | elapsed:    0.0s\n",
      "[Parallel(n_jobs=16)]: Done 100 out of 100 | elapsed:    0.0s finished\n",
      "[Parallel(n_jobs=-1)]: Using backend ThreadingBackend with 16 concurrent workers.\n",
      "[Parallel(n_jobs=-1)]: Done  18 tasks      | elapsed:    0.5s\n"
     ]
    },
    {
     "name": "stdout",
     "output_type": "stream",
     "text": [
      "Train Score:  0.7444572544368058\n",
      "Test Score:  0.724221395980917\n",
      "RMSE:  32.688921260070636\n",
      "Best Params:  {'criterion': 'poisson', 'max_features': 'sqrt', 'verbose': True}\n"
     ]
    },
    {
     "name": "stderr",
     "output_type": "stream",
     "text": [
      "[Parallel(n_jobs=-1)]: Done 100 out of 100 | elapsed:    1.7s finished\n",
      "[Parallel(n_jobs=16)]: Using backend ThreadingBackend with 16 concurrent workers.\n",
      "[Parallel(n_jobs=16)]: Done  18 tasks      | elapsed:    0.0s\n",
      "[Parallel(n_jobs=16)]: Done 100 out of 100 | elapsed:    0.1s finished\n",
      "[Parallel(n_jobs=16)]: Using backend ThreadingBackend with 16 concurrent workers.\n",
      "[Parallel(n_jobs=16)]: Done  18 tasks      | elapsed:    0.0s\n",
      "[Parallel(n_jobs=16)]: Done 100 out of 100 | elapsed:    0.0s finished\n",
      "[Parallel(n_jobs=16)]: Using backend ThreadingBackend with 16 concurrent workers.\n",
      "[Parallel(n_jobs=16)]: Done  18 tasks      | elapsed:    0.0s\n",
      "[Parallel(n_jobs=16)]: Done 100 out of 100 | elapsed:    0.0s finished\n"
     ]
    },
    {
     "data": {
      "text/plain": [
       "GridSearchCV(estimator=RandomForestRegressor(n_jobs=-1),\n",
       "             param_grid={'criterion': ['squared_error', 'poisson'],\n",
       "                         'max_features': ['auto', 'sqrt', 'log2'],\n",
       "                         'verbose': [True, False]})"
      ]
     },
     "execution_count": 51,
     "metadata": {},
     "output_type": "execute_result"
    }
   ],
   "source": [
    "# grid search for random forest\n",
    "grid_search_eval(rf, rf_params)"
   ]
  },
  {
   "cell_type": "code",
   "execution_count": 55,
   "id": "c38cf418-d5a3-42a1-b7a5-4e8caa85eef3",
   "metadata": {},
   "outputs": [
    {
     "name": "stdout",
     "output_type": "stream",
     "text": [
      "Train Score:  0.7398133778656781\n",
      "Test Score:  0.7286446188290417\n",
      "RMSE:  32.16462248819023\n",
      "Best Params:  {'loss': 'squared_error', 'max_depth': 3, 'n_estimators': 100}\n"
     ]
    },
    {
     "data": {
      "text/plain": [
       "GridSearchCV(estimator=GradientBoostingRegressor(),\n",
       "             param_grid={'loss': ['squared_error', 'absolute_error', 'huber'],\n",
       "                         'max_depth': [3, 5, 10], 'n_estimators': [100, 200]})"
      ]
     },
     "execution_count": 55,
     "metadata": {},
     "output_type": "execute_result"
    }
   ],
   "source": [
    "grid_search_eval(gboost, gb_params)"
   ]
  },
  {
   "cell_type": "code",
   "execution_count": 51,
   "id": "43e8f0d0-f13c-486f-98a0-a50a3ff4244f",
   "metadata": {},
   "outputs": [
    {
     "data": {
      "text/plain": [
       "(array([0.82007253]), -11.746317231263697)"
      ]
     },
     "execution_count": 51,
     "metadata": {},
     "output_type": "execute_result"
    }
   ],
   "source": [
    "lr.coef_, lr.intercept_"
   ]
  },
  {
   "cell_type": "markdown",
   "id": "0730f632-e55b-4c5d-a868-178c4ce2797e",
   "metadata": {},
   "source": [
    "### Model 2 Summary: \n"
   ]
  },
  {
   "cell_type": "code",
   "execution_count": null,
   "id": "71ef680a-6925-44f8-870b-87a4f9b67e7d",
   "metadata": {},
   "outputs": [],
   "source": []
  },
  {
   "cell_type": "markdown",
   "id": "f9b23520-9b47-4f70-8a54-70ebbb001df0",
   "metadata": {},
   "source": [
    "### Random Forest Regression with lots of vars"
   ]
  },
  {
   "cell_type": "code",
   "execution_count": null,
   "id": "6f5ca7b8-fe00-4f52-8e7c-22975297c5ce",
   "metadata": {},
   "outputs": [],
   "source": []
  },
  {
   "cell_type": "code",
   "execution_count": null,
   "id": "6606d91a-0272-4023-9a45-0d56688da006",
   "metadata": {},
   "outputs": [],
   "source": []
  }
 ],
 "metadata": {
  "kernelspec": {
   "display_name": "Python 3",
   "language": "python",
   "name": "python3"
  },
  "language_info": {
   "codemirror_mode": {
    "name": "ipython",
    "version": 3
   },
   "file_extension": ".py",
   "mimetype": "text/x-python",
   "name": "python",
   "nbconvert_exporter": "python",
   "pygments_lexer": "ipython3",
   "version": "3.8.8"
  }
 },
 "nbformat": 4,
 "nbformat_minor": 5
}
